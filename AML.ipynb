{
 "cells": [
  {
   "cell_type": "code",
   "execution_count": 140,
   "metadata": {},
   "outputs": [],
   "source": [
    "from __future__ import print_function\n",
    "import numpy as np\n",
    "import pandas as pd\n",
    "import random\n",
    "import names\n",
    "from datetime import datetime\n",
    "import json\n",
    "import os\n",
    "from pandas.io.json import json_normalize \n",
    "import requests\n",
    "from tqdm import tqdm\n",
    "from matplotlib import pyplot as plt\n",
    "from tqdm import tqdm, tqdm_notebook\n",
    "from functools import reduce\n",
    "import nltk\n",
    "from nltk.stem import WordNetLemmatizer \n",
    "from nltk.corpus import stopwords\n",
    "from nltk.tokenize import word_tokenize \n",
    "from gensim import corpora\n",
    "import gensim\n",
    "import pickle\n",
    "import spacy\n",
    "import re\n",
    "from sklearn.metrics.pairwise import cosine_similarity\n",
    "from bs4 import BeautifulSoup\n",
    "from gensim.summarization import summarize\n",
    "import cartopy.crs as ccrs\n",
    "import matplotlib.pyplot as plt\n",
    "from IPython.display import Image\n",
    "%matplotlib inline\n",
    "from nltk.tag import pos_tag\n",
    "from nltk.chunk import conlltags2tree, tree2conlltags\n",
    "from pathlib import Path\n",
    "\n",
    "import math\n",
    "import networkx as nx\n",
    "import matplotlib.pyplot as plt\n",
    "from IPython.display import Image\n",
    "%matplotlib inline\n",
    "import pylab"
   ]
  },
  {
   "cell_type": "code",
   "execution_count": 141,
   "metadata": {},
   "outputs": [
    {
     "name": "stderr",
     "output_type": "stream",
     "text": [
      "C:\\Users\\alapatt\\AppData\\Local\\Continuum\\anaconda3\\lib\\site-packages\\ipykernel_launcher.py:18: FutureWarning:\n",
      "\n",
      "pandas.io.json.json_normalize is deprecated, use pandas.json_normalize instead\n",
      "\n"
     ]
    }
   ],
   "source": [
    "# Run this code only when needed - Create Customer, Account and Transaction datasets\n",
    "start = 10000\n",
    "stop = 99999\n",
    "limit = 10000\n",
    "# acc_limit = 30000\n",
    "\n",
    "cust_num_list = random.sample(range(start, stop), limit)\n",
    "ssn_list = random.sample(range(800000, 900000), limit)\n",
    "contact_list = random.sample(range(600000000, 699999999), limit)\n",
    "\n",
    "# Address json\n",
    "os.chdir(r'C:\\Users\\alapatt\\DSAssignments\\Big Data')\n",
    "\n",
    "# Reading the json as a dict\n",
    "with open('addresses-us-all.json') as json_data:\n",
    "    data = json.load(json_data)\n",
    "    \n",
    "add_df = pd.DataFrame.from_dict(json_normalize(data['addresses']))  \n",
    "\n",
    "us_state_abbrev = {\n",
    "    'AL': 'Alabama',\n",
    "    'AK': 'Alaska',\n",
    "    'AZ': 'Arizona',\n",
    "    'AR': 'Arkansas',\n",
    "    'CA': 'California',\n",
    "    'CO': 'Colorado',\n",
    "    'CT': 'Connecticut',\n",
    "    'DE': 'Delaware',\n",
    "    'FL': 'Florida',\n",
    "    'GA': 'Georgia',\n",
    "    'HI': 'Hawaii',\n",
    "    'ID': 'Idaho',\n",
    "    'IL': 'Illinois',\n",
    "    'IN': 'Indiana',\n",
    "    'IA': 'Iowa',\n",
    "    'KS': 'Kansas',\n",
    "    'KY': 'Kentucky',\n",
    "    'LA': 'Louisiana',\n",
    "    'ME': 'Maine',\n",
    "    'MD': 'Maryland',\n",
    "    'MA': 'Massachusetts',\n",
    "    'MI': 'Michigan',\n",
    "    'MN': 'Minnesota',\n",
    "    'MS': 'Mississippi',\n",
    "    'MO': 'Missouri',\n",
    "    'MT': 'Montana',\n",
    "    'NE': 'Nebraska',\n",
    "    'NV': 'Nevada',\n",
    "    'NH': 'New Hampshire',\n",
    "    'NJ': 'New Jersey',\n",
    "    'NM': 'New Mexico',\n",
    "    'NY': 'New York',\n",
    "    'NC': 'North Carolina',\n",
    "    'ND': 'North Dakota',\n",
    "    'OH': 'Ohio',\n",
    "    'OK': 'Oklahoma',\n",
    "    'OR': 'Oregon',\n",
    "    'PA': 'Pennsylvania',\n",
    "    'RI': 'Rhode Island',\n",
    "    'SC': 'South Carolina',\n",
    "    'SD': 'South Dakota',\n",
    "    'TN': 'Tennessee',\n",
    "    'TX': 'Texas',\n",
    "    'UT': 'Utah',\n",
    "    'VT': 'Vermont',\n",
    "    'VA': 'Virginia',\n",
    "    'WA': 'Washington',\n",
    "    'WV': 'West Virginia',\n",
    "    'WI': 'Wisconsin',\n",
    "    'WY': 'Wyoming',\n",
    "    'DC': 'Dist. of Columbia',\n",
    "}\n",
    "\n",
    "\n",
    "name_list = []\n",
    "email_list = []\n",
    "fb_list = []\n",
    "tw_list = []\n",
    "add_list = []\n",
    "city_list = []\n",
    "state_list = []\n",
    "post_list = []\n",
    "\n",
    "for i in range(0, limit):\n",
    "    first_name = names.get_first_name()\n",
    "    last_name = names.get_last_name()\n",
    "    name_list.append(first_name + ' ' + last_name)\n",
    "    #assign email-id, twitter, fb, contact#, Identification #\n",
    "    email_list.append(first_name + last_name + '@abc.com')\n",
    "    fb_list.append(first_name + last_name + str(np.random.randint(1, 100)))\n",
    "    tw_list.append('@' + first_name + last_name)\n",
    "    address_df = add_df.sample(n=1)\n",
    "    for index, row in address_df.iterrows():\n",
    "        states = us_state_abbrev[row['state']]\n",
    "        address = str(row['address1']) +' ' + str(row['address2'])\n",
    "        city = str(row['city'])\n",
    "        post = str(row['postalCode'])\n",
    "        \n",
    "    add_list.append(address)\n",
    "    city_list.append(city)\n",
    "    state_list.append(states)\n",
    "    post_list.append(post)\n",
    "\n",
    "# random assign number of accounts to customers\n",
    "num_of_acc = np.random.randint(1, 5, size=(limit,1))\n",
    "\n",
    "cust_df = pd.DataFrame()\n",
    "cust_df['cust_id'] = cust_num_list\n",
    "cust_df['cust_name'] = name_list\n",
    "cust_df['no_of_acc'] = num_of_acc\n",
    "cust_df['email'] = email_list\n",
    "cust_df['facebook_id'] = fb_list\n",
    "cust_df['twitter_id'] = tw_list\n",
    "cust_df['address'] = add_list\n",
    "cust_df['city'] = city_list\n",
    "cust_df['state'] = state_list\n",
    "cust_df['postcode'] = post_list\n",
    "cust_df['cust_identity'] = ssn_list\n",
    "cust_df['cust_contact'] = contact_list\n",
    "                    \n",
    "\n",
    "# cust_df=pd.DataFrame({'cust_id' : cust_num_list,'cust_name' : name_list, 'no_of_acc': num_of_acc})\n",
    "\n",
    "cust_df.to_csv(r'C:\\Users\\alapatt\\DSAssignments\\Big Data\\cust_df.csv')\n",
    "\n"
   ]
  },
  {
   "cell_type": "code",
   "execution_count": 142,
   "metadata": {},
   "outputs": [],
   "source": [
    "# Run this code only when needed - Build account dataframe\n",
    "\n",
    "acc_dict = {}\n",
    "cust_list = []\n",
    "\n",
    "last_count = 9999999999\n",
    "for index, row in cust_df.iterrows():\n",
    "    cust_no = row['cust_id']\n",
    "    count = row['no_of_acc']\n",
    "    \n",
    "    for i in range(last_count, last_count+count):\n",
    "        balance = random.randint(-50000,1000) / 100\n",
    "        cust_list.append([cust_no, i, balance])\n",
    "\n",
    "    last_count = i+1\n",
    "random.shuffle(cust_list)\n",
    "acc_df = pd.DataFrame(cust_list, columns = ['cust_id', 'acc_id', 'acc_balance'])\n",
    "acc_df.to_csv(r'C:\\Users\\alapatt\\DSAssignments\\Big Data\\acc_df.csv')"
   ]
  },
  {
   "cell_type": "code",
   "execution_count": null,
   "metadata": {},
   "outputs": [],
   "source": []
  },
  {
   "cell_type": "code",
   "execution_count": 143,
   "metadata": {},
   "outputs": [],
   "source": [
    "# Only run when required - Create Cust_Account dataframe\n",
    "\n",
    "cust_acc_df = pd.merge(acc_df, cust_df, left_on='cust_id', right_on='cust_id', how='left').drop('no_of_acc', axis=1)\n",
    "\n"
   ]
  },
  {
   "cell_type": "code",
   "execution_count": null,
   "metadata": {},
   "outputs": [],
   "source": [
    "# Only run when required - Generate Transaction file\n",
    "\n",
    "# Number of transactions to be generated\n",
    "no_of_tx = 1000000\n",
    "\n",
    "# Tx reference\n",
    "tx_ref = datetime.now()\n",
    "post_date_time = 10000000000*tx_ref.year + 100000000*tx_ref.month + 1000000*tx_ref.day + 10000*tx_ref.hour + 100*tx_ref.minute + tx_ref.second\n",
    "tx_ref = 100000000*tx_ref.year + 1000000*tx_ref.month + 10000*tx_ref.day + 100*tx_ref.hour + tx_ref.minute\n",
    "tx_ref *= no_of_tx * 10000\n",
    "tx_list = []\n",
    "\n",
    "for i in range(1,no_of_tx):\n",
    "    tx_ref += 1\n",
    "    tx_ref_txt = 'TX' + str(tx_ref)\n",
    "    tx_pair = cust_acc_df.sample(n=2)\n",
    "    payee = 0\n",
    "    tx_amt = random.randint(1,1000000) / 100\n",
    "    for index,row in tx_pair.iterrows():\n",
    "        if payee == 0:\n",
    "            # Payee details\n",
    "            tx_payee = row.cust_id\n",
    "            tx_payee_acc = row.acc_id\n",
    "            tx_payee_name = row.cust_name\n",
    "            tx_payee_acc_bal = row.acc_balance + tx_amt\n",
    "            cust_acc_df.loc[cust_acc_df['acc_id'] == tx_payee_acc, 'acc_balance'] = tx_payee_acc_bal\n",
    "            payee = 1\n",
    "            tx_payee_email = row.email\n",
    "            tx_payee_facebook_id = row.facebook_id\n",
    "            tx_payee_twitter_id = row.twitter_id\n",
    "            tx_payee_cust_identity = row.cust_identity\n",
    "            tx_payee_address = row.address\n",
    "            tx_payee_city = row.city\n",
    "            tx_payee_postcode = row.postcode\n",
    "            tx_payee_state = row.state\n",
    "            tx_payee_cust_contact = row.cust_contact\n",
    "        \n",
    "        else:\n",
    "            tx_ben = row.cust_id\n",
    "            tx_ben_acc = row.acc_id\n",
    "            tx_ben_name = row.cust_name\n",
    "            tx_ben_acc_bal = row.acc_balance - tx_amt\n",
    "            cust_acc_df.loc[cust_acc_df['acc_id'] == tx_ben_acc, 'acc_balance'] = tx_ben_acc_bal\n",
    "            tx_ben_email = row.email\n",
    "            tx_ben_facebook_id = row.facebook_id\n",
    "            tx_ben_twitter_id = row.twitter_id\n",
    "            tx_ben_cust_identity = row.cust_identity\n",
    "            tx_ben_address = row.address\n",
    "            tx_ben_city = row.city\n",
    "            tx_ben_postcode = row.postcode\n",
    "            tx_ben_state = row.state\n",
    "            tx_ben_cust_contact = row.cust_contact\n",
    "        \n",
    "    tx_remark = tx_payee_name + ' to ' + tx_ben_name\n",
    "    tx_posting = payee\n",
    "    tx_list.append([tx_ref_txt, post_date_time,tx_amt, tx_payee,tx_payee_acc, tx_payee_name,tx_payee_acc_bal,tx_payee_email, tx_payee_facebook_id, tx_payee_twitter_id, tx_payee_cust_identity, tx_payee_cust_contact, tx_payee_address, tx_payee_city, tx_payee_state, tx_payee_postcode,  tx_ben,tx_ben_acc,tx_ben_name,tx_ben_acc_bal,tx_ben_email,tx_ben_facebook_id,tx_ben_twitter_id,tx_ben_cust_identity,tx_ben_cust_contact,tx_ben_address,tx_ben_city, tx_ben_state, tx_ben_postcode,tx_remark])\n",
    "        \n",
    "    \n",
    "    \n",
    "tx_df = pd.DataFrame(tx_list, columns = ['tx_ref', 'post_date_time' , 'tx_amt', 'tx_payee','tx_payee_acc', 'tx_payee_name','tx_payee_acc_bal','tx_payee_email', 'tx_payee_facebook_id', 'tx_payee_twitter_id', 'tx_payee_cust_identity', 'tx_payee_cust_contact', 'tx_payee_address', 'tx_ben', 'tx_payee_city', 'tx_payee_state', 'tx_payee_postcode', 'tx_ben_acc','tx_ben_name','tx_ben_acc_bal','tx_ben_email','tx_ben_facebook_id','tx_ben_twitter_id','tx_ben_cust_identity','tx_ben_cust_contact','tx_ben_address', 'tx_ben_city', 'tx_ben_state', 'tx_ben_postcode','tx_remark'])\n",
    "\n",
    "tx_df.to_csv(r'C:\\Users\\alapatt\\DSAssignments\\Big Data\\tx_df1.csv', mode='a', header=True, index=False)        \n",
    "\n",
    "\n",
    "    \n"
   ]
  },
  {
   "cell_type": "code",
   "execution_count": 146,
   "metadata": {
    "scrolled": false
   },
   "outputs": [
    {
     "name": "stderr",
     "output_type": "stream",
     "text": [
      "C:\\Users\\alapatt\\AppData\\Local\\Continuum\\anaconda3\\lib\\site-packages\\IPython\\core\\interactiveshell.py:3057: DtypeWarning:\n",
      "\n",
      "Columns (1,2,3,4,6,10,11,15,16,17,19,23,24,28) have mixed types.Specify dtype option on import or set low_memory=False.\n",
      "\n"
     ]
    }
   ],
   "source": [
    "# Read all CSVs into DF\n",
    "\n",
    "cust_df = pd.read_csv (r'C:\\Users\\alapatt\\DSAssignments\\Big Data\\cust_df.csv', index_col = 0)\n",
    "\n",
    "acc_df = pd.read_csv (r'C:\\Users\\alapatt\\DSAssignments\\Big Data\\acc_df.csv', index_col = 0)\n",
    "\n",
    "tx_df = pd.read_csv (r'C:\\Users\\alapatt\\DSAssignments\\Big Data\\tx_df1.csv', index_col = 0)\n"
   ]
  },
  {
   "cell_type": "code",
   "execution_count": 147,
   "metadata": {},
   "outputs": [
    {
     "data": {
      "application/vnd.jupyter.widget-view+json": {
       "model_id": "522c1b913966431cbe0d3bb0318267ab",
       "version_major": 2,
       "version_minor": 0
      },
      "text/plain": [
       "HBox(children=(IntProgress(value=0, max=52), HTML(value='')))"
      ]
     },
     "metadata": {},
     "output_type": "display_data"
    },
    {
     "name": "stdout",
     "output_type": "stream",
     "text": [
      "\n",
      "Done\n"
     ]
    }
   ],
   "source": [
    "# Extract data online\n",
    "\n",
    "# Get all leading news feed via newsapi.org\n",
    "def getSources():\n",
    "    source_url = 'https://newsapi.org/v1/sources?language=en'\n",
    "    response = requests.get(source_url).json()\n",
    "    sources = []\n",
    "    for source in response['sources']:\n",
    "        sources.append(source['id'])\n",
    "    return sources\n",
    "\n",
    "# Get the categories of each source\n",
    "def mapping():\n",
    "    d = {}\n",
    "    response = requests.get('https://newsapi.org/v1/sources?language=en')\n",
    "    response = response.json()\n",
    "    for s in response['sources']:\n",
    "        d[s['id']] = s['category']\n",
    "    return d\n",
    "\n",
    "\n",
    "sources = getSources()\n",
    "m = mapping()\n",
    "\n",
    "\n",
    "def category(source, m):\n",
    "    try:\n",
    "        return m[source]\n",
    "    except:\n",
    "        return 'NC'\n",
    "\n",
    "\n",
    "def getDailyNews():\n",
    "    sources = getSources()\n",
    "    key = '1a3246fbcea34573a649ad0bddbe7d64'\n",
    "    url = 'https://newsapi.org/v1/articles?source={0}&sortBy={1}&apiKey={2}'\n",
    "    responses = []\n",
    "    for i, source in tqdm_notebook(enumerate(sources), total=len(sources)):\n",
    "        \n",
    "        \n",
    "        try:\n",
    "            u = url.format(source, 'top', key)\n",
    "        except:\n",
    "            u = url.format(source, 'latest', key)\n",
    "        \n",
    "        response = requests.get(u)\n",
    "               \n",
    "        r = response.json()\n",
    "        try:\n",
    "            for article in r['articles']:\n",
    "                article['source'] = source\n",
    "            responses.append(r)\n",
    "        except:\n",
    "            print('Rate limit exceeded ... please wait and retry in 6 hours')\n",
    "            return None\n",
    "                \n",
    "    articles = list(map(lambda r: r['articles'], responses))\n",
    "    articles = list(reduce(lambda x,y: x+y, articles))\n",
    "    \n",
    "    news = pd.DataFrame(articles)\n",
    "    news = news.dropna()\n",
    "    news = news.drop_duplicates()\n",
    "    news.reset_index(inplace=True, drop=True)\n",
    "    d = mapping()\n",
    "    news['category'] = news['source'].map(lambda s: category(s, d))\n",
    "    news['scraping_date'] = datetime.now()\n",
    "\n",
    "    try:\n",
    "        aux = pd.read_csv(r'C:\\Users\\alapatt\\DSAssignments\\Big Data\\news.csv')\n",
    "        aux = aux.append(news)\n",
    "        aux = aux.drop_duplicates('url')\n",
    "        aux.reset_index(inplace=True, drop=True)\n",
    "        aux.to_csv(r'C:\\Users\\alapatt\\DSAssignments\\Big Data\\news.csv', encoding='utf-8', index=False)\n",
    "    except:\n",
    "        news.to_csv(r'C:\\Users\\alapatt\\DSAssignments\\Big Data\\news.csv', index=False, encoding='utf-8')\n",
    "        \n",
    "    print('Done')\n",
    "\n",
    "\n",
    "# Text cleanup routine\n",
    "lemmatizer = WordNetLemmatizer()\n",
    "stop_words = set(stopwords.words('english')) \n",
    "\n",
    "\n",
    "def token_lemma(sentence):\n",
    "    if pd.isna(sentence): # Check if sentence is NaN\n",
    "        output = sentence\n",
    "    else:\n",
    "        output = nltk.word_tokenize(sentence) # Tokenize\n",
    "        output = [w for w in output if not w in stop_words] \n",
    "        output = [w.lower() for w in output] # Lower case\n",
    "        output = [lemmatizer.lemmatize(w) for w in output] # Lemmatizer\n",
    "    return output\n",
    "\n",
    "def _removeNonAscii(s): \n",
    "    return \"\".join(i for i in s if ord(i)<128)\n",
    "\n",
    "def clean_text(text):\n",
    "    text = text.lower()\n",
    "    text = re.sub(r\"what's\", \"what is \", text)\n",
    "    text = text.replace('(ap)', '')\n",
    "    text = re.sub(r\"\\'s\", \" is \", text)\n",
    "    text = re.sub(r\"\\'ve\", \" have \", text)\n",
    "    text = re.sub(r\"can't\", \"cannot \", text)\n",
    "    text = re.sub(r\"n't\", \" not \", text)\n",
    "    text = re.sub(r\"i'm\", \"i am \", text)\n",
    "    text = re.sub(r\"\\'re\", \" are \", text)\n",
    "    text = re.sub(r\"\\'d\", \" would \", text)\n",
    "    text = re.sub(r\"\\'ll\", \" will \", text)\n",
    "    text = re.sub(r'\\W+', ' ', text)\n",
    "    text = re.sub(r'\\s+', ' ', text)\n",
    "    text = re.sub(r\"\\\\\", \"\", text)\n",
    "    text = re.sub(r\"\\'\", \"\", text)    \n",
    "    text = re.sub(r\"\\\"\", \"\", text)\n",
    "    text = re.sub('[^a-zA-Z ?!]+', '', text)\n",
    "    text = _removeNonAscii(text)\n",
    "    text = text.strip()\n",
    "    return text\n",
    "\n",
    "def preprocess(sent):\n",
    "    sent = nltk.word_tokenize(sent)\n",
    "    sent = nltk.pos_tag(sent)\n",
    "    return sent\n",
    "\n",
    "\n",
    "# Call main routine\n",
    "\n",
    "if __name__=='__main__':\n",
    "    getDailyNews()\n",
    "\n"
   ]
  },
  {
   "cell_type": "code",
   "execution_count": 148,
   "metadata": {},
   "outputs": [],
   "source": [
    "# Implementation of Keyword Extraction\n",
    "\n",
    "from collections import OrderedDict\n",
    "import numpy as np\n",
    "import spacy\n",
    "from spacy.lang.en.stop_words import STOP_WORDS\n",
    "\n",
    "import en_core_web_sm\n",
    "nlp = en_core_web_sm.load()\n",
    "\n",
    "class TextRank4Keyword():\n",
    "    \"\"\"Extract keywords from text\"\"\"\n",
    "    \n",
    "    def __init__(self):\n",
    "        self.d = 0.85 # damping coefficient, usually is .85\n",
    "        self.min_diff = 1e-5 # convergence threshold\n",
    "        self.steps = 10 # iteration steps\n",
    "        self.node_weight = None # save keywords and its weight\n",
    "\n",
    "    \n",
    "    def set_stopwords(self, stopwords):  \n",
    "        \"\"\"Set stop words\"\"\"\n",
    "        for word in STOP_WORDS.union(set(stopwords)):\n",
    "            lexeme = nlp.vocab[word]\n",
    "            lexeme.is_stop = True\n",
    "    \n",
    "    def sentence_segment(self, doc, candidate_pos, lower):\n",
    "        \"\"\"Store those words only in cadidate_pos\"\"\"\n",
    "        sentences = []\n",
    "        for sent in doc.sents:\n",
    "            selected_words = []\n",
    "            for token in sent:\n",
    "                # Store words only with cadidate POS tag\n",
    "                if token.pos_ in candidate_pos and token.is_stop is False:\n",
    "                    if lower is True:\n",
    "                        selected_words.append(token.text.lower())\n",
    "                    else:\n",
    "                        selected_words.append(token.text)\n",
    "            sentences.append(selected_words)\n",
    "        return sentences\n",
    "        \n",
    "    def get_vocab(self, sentences):\n",
    "        \"\"\"Get all tokens\"\"\"\n",
    "        vocab = OrderedDict()\n",
    "        i = 0\n",
    "        for sentence in sentences:\n",
    "            for word in sentence:\n",
    "                if word not in vocab:\n",
    "                    vocab[word] = i\n",
    "                    i += 1\n",
    "        return vocab\n",
    "    \n",
    "    def get_token_pairs(self, window_size, sentences):\n",
    "        \"\"\"Build token_pairs from windows in sentences\"\"\"\n",
    "        token_pairs = list()\n",
    "        for sentence in sentences:\n",
    "            for i, word in enumerate(sentence):\n",
    "                for j in range(i+1, i+window_size):\n",
    "                    if j >= len(sentence):\n",
    "                        break\n",
    "                    pair = (word, sentence[j])\n",
    "                    if pair not in token_pairs:\n",
    "                        token_pairs.append(pair)\n",
    "        return token_pairs\n",
    "        \n",
    "    def symmetrize(self, a):\n",
    "        return a + a.T - np.diag(a.diagonal())\n",
    "    \n",
    "    def get_matrix(self, vocab, token_pairs):\n",
    "        \"\"\"Get normalized matrix\"\"\"\n",
    "        # Build matrix\n",
    "        vocab_size = len(vocab)\n",
    "        g = np.zeros((vocab_size, vocab_size), dtype='float')\n",
    "        for word1, word2 in token_pairs:\n",
    "            i, j = vocab[word1], vocab[word2]\n",
    "            g[i][j] = 1\n",
    "            \n",
    "        # Get Symmeric matrix\n",
    "        g = self.symmetrize(g)\n",
    "        \n",
    "        # Normalize matrix by column\n",
    "        norm = np.sum(g, axis=0)\n",
    "        g_norm = np.divide(g, norm, where=norm!=0) # this is ignore the 0 element in norm\n",
    "        \n",
    "        return g_norm\n",
    "\n",
    "    \n",
    "    def get_keywords(self, number=10):\n",
    "        \"\"\"Print top number keywords\"\"\"\n",
    "        \n",
    "        keywords = {}\n",
    "        \n",
    "        node_weight = OrderedDict(sorted(self.node_weight.items(), key=lambda t: t[1], reverse=True))\n",
    "        for i, (key, value) in enumerate(node_weight.items()):\n",
    "            #print(key + ' - ' + str(value))\n",
    "            \n",
    "            keywords.update( {i : key} )\n",
    "            \n",
    "            if i > number:\n",
    "                break\n",
    "        return(keywords)\n",
    "        \n",
    "        \n",
    "    def analyze(self, text, \n",
    "                candidate_pos=['NOUN'], \n",
    "                \n",
    "                window_size=4, lower=False, stopwords=list()):\n",
    "# def analyze(self, text, \n",
    "#                 candidate_pos=['NOUN', 'PROPN'], \n",
    "#                 window_size=4, lower=False, stopwords=list()):\n",
    "    \n",
    "        \"\"\"Main function to analyze text\"\"\"\n",
    "        \n",
    "        # Set stop words\n",
    "        self.set_stopwords(stopwords)\n",
    "        \n",
    "        # Pare text by spaCy\n",
    "        doc = nlp(text)\n",
    "        \n",
    "        # Filter sentences\n",
    "        sentences = self.sentence_segment(doc, candidate_pos, lower) # list of list of words\n",
    "        \n",
    "        # Build vocabulary\n",
    "        vocab = self.get_vocab(sentences)\n",
    "        \n",
    "        # Get token_pairs from windows\n",
    "        token_pairs = self.get_token_pairs(window_size, sentences)\n",
    "        \n",
    "        # Get normalized matrix\n",
    "        g = self.get_matrix(vocab, token_pairs)\n",
    "        \n",
    "        # Initionlization for weight(pagerank value)\n",
    "        pr = np.array([1] * len(vocab))\n",
    "        \n",
    "        # Iteration\n",
    "        previous_pr = 0\n",
    "        for epoch in range(self.steps):\n",
    "            pr = (1-self.d) + self.d * np.dot(g, pr)\n",
    "            if abs(previous_pr - sum(pr))  < self.min_diff:\n",
    "                break\n",
    "            else:\n",
    "                previous_pr = sum(pr)\n",
    "\n",
    "        # Get weight for each node\n",
    "        node_weight = dict()\n",
    "        for word, index in vocab.items():\n",
    "            node_weight[word] = pr[index]\n",
    "        \n",
    "        self.node_weight = node_weight\n",
    "        "
   ]
  },
  {
   "cell_type": "code",
   "execution_count": 149,
   "metadata": {},
   "outputs": [
    {
     "name": "stderr",
     "output_type": "stream",
     "text": [
      "C:\\Users\\alapatt\\AppData\\Local\\Continuum\\anaconda3\\lib\\site-packages\\ipykernel_launcher.py:139: RuntimeWarning:\n",
      "\n",
      "invalid value encountered in double_scalars\n",
      "\n",
      "C:\\Users\\alapatt\\AppData\\Local\\Continuum\\anaconda3\\lib\\site-packages\\ipykernel_launcher.py:142: RuntimeWarning:\n",
      "\n",
      "invalid value encountered in double_scalars\n",
      "\n"
     ]
    }
   ],
   "source": [
    "# Analyse the news file after extraction\n",
    "\n",
    "data = pd.read_csv(r'C:\\Users\\alapatt\\DSAssignments\\Big Data\\news.csv')\n",
    "\n",
    "\n",
    "# process the description of news after cleansing and remove short description as they are generally noise\n",
    "data = data.drop_duplicates('description')\n",
    "data = data[~data['description'].isnull()]\n",
    "\n",
    "# clean text\n",
    "data['description'] = data['description'].apply(lambda x : clean_text(x))\n",
    "\n",
    "data = data[(data.description.map(len) > 140) & (data.description.map(len) <= 300)]\n",
    "# Remove punctuation\n",
    "data['description'] = data['description'].map(lambda x: re.sub('[,\\.!?]', '', x))\n",
    "\n",
    "\n",
    "# Convert the titles to lowercase\n",
    "data['description'] = data['description'].map(lambda x: x.lower())\n",
    "data.reset_index(inplace=True, drop=True)\n",
    "\n",
    "\n",
    "#lemmatise and tokenise\n",
    "# data['keywords'] = data['description'].apply(lambda x : token_lemma(x))\n",
    "\n",
    "\n",
    "\n",
    "# display (data)\n",
    "\n",
    "# call Implementation of Keyword Extraction\n",
    "\n",
    "candidate_pos = ['NOUN']\n",
    "    \n",
    "keywords = []\n",
    "\n",
    "for index, row in data.iterrows():\n",
    "    text = row['description']\n",
    "    tr4w = TextRank4Keyword()\n",
    "    tr4w.analyze(text, candidate_pos, window_size=2, lower=False)\n",
    "    keywords_desc = tr4w.get_keywords(1)\n",
    "    keywords_token = keywords_desc.values()\n",
    "    keywords.append(keywords_token)\n",
    "data['keywords'] = keywords"
   ]
  },
  {
   "cell_type": "code",
   "execution_count": 150,
   "metadata": {},
   "outputs": [
    {
     "name": "stderr",
     "output_type": "stream",
     "text": [
      "C:\\Users\\alapatt\\AppData\\Local\\Continuum\\anaconda3\\lib\\site-packages\\gensim\\models\\base_any2vec.py:743: UserWarning:\n",
      "\n",
      "C extension not loaded, training will be slow. Install a C compiler and reinstall gensim for fast training.\n",
      "\n",
      "C:\\Users\\alapatt\\AppData\\Local\\Continuum\\anaconda3\\lib\\site-packages\\ipykernel_launcher.py:29: DeprecationWarning:\n",
      "\n",
      "Call to deprecated `similarity` (Method will be removed in 4.0.0, use self.wv.similarity() instead).\n",
      "\n"
     ]
    }
   ],
   "source": [
    "# Compute similarity index using Fast Text with the alert_list words\n",
    "\n",
    "alert_word_list = ['fraud','fraudulent','bankruptcy', 'antimoneylaundering','blackmoney','financialfraud','taxfraud','taxevasion','creditcardfraud','stolencard', 'crime', 'conversion', 'theft', 'bribery', 'cheque', 'sedition', 'embezzlement', 'mortgagefraud', 'medicalfraud', 'securitiesfraud', 'forgery', 'insidertrading', 'counterfit', 'bankfraud', 'insurancefraud', 'pointofsale', 'burglary', 'charged', 'fine', 'arrest', 'graft', 'penalty', 'book']\n",
    "\n",
    "from gensim.models import FastText \n",
    "\n",
    "#loading the downloaded model with Wiki\n",
    "\n",
    "embedding_size = 60\n",
    "window_size = 10\n",
    "min_word = 5\n",
    "down_sampling = 1e-2\n",
    "\n",
    "model = FastText(r'C:\\Users\\alapatt\\DSAssignments\\AML\\kaggleprojectcommonsense\\wiki-news-300d-1M-subword.bin', size=embedding_size, window=window_size,min_count=min_word, sample=down_sampling, sg=1,iter=100)\n",
    "import gensim\n",
    "\n",
    "\n",
    "f_index_list = []\n",
    "f_temp_list = []\n",
    "for index, row in data.iterrows():\n",
    "    keywords_list = list(row['keywords'])\n",
    "    \n",
    "    max_f_index = 0\n",
    "    \n",
    "    for key in keywords_list:\n",
    "        for word in alert_word_list:\n",
    "            \n",
    "                       \n",
    "            index_ftext = model.similarity(key, word)\n",
    "                        \n",
    "            if index_ftext > max_f_index:\n",
    "                max_f_index = index_ftext\n",
    "                f_sim_word = key + '' + word\n",
    "                \n",
    "                        \n",
    "    f_temp_list.append(f_sim_word)\n",
    "    f_index_list.append(max_f_index)\n",
    "    \n",
    "    \n",
    "data['fast_index'] = f_index_list\n",
    "data['fast_related_words'] = f_temp_list\n",
    "       \n",
    "    \n",
    "data.to_csv(r'C:\\Users\\alapatt\\DSAssignments\\Big Data\\news_headlines.csv', mode='a', header=True, index=False)     \n",
    "           \n"
   ]
  },
  {
   "cell_type": "code",
   "execution_count": 151,
   "metadata": {},
   "outputs": [],
   "source": [
    "# Data analysis and update Watch_list and Watch_article_reference_list\n",
    "\n",
    "# Choose rows that has index score of 0.6 and above (these are more close to the alert word list)\n",
    "url = data[data['fast_index'] > 0.6]\n",
    "\n",
    "# start scraping the detailed content and identify the entity using NER\n",
    "\n",
    "VALID_TAGS = []\n",
    "pattern = 'NP: {<DT>?<JJ>*<NN>}'\n",
    "cp = nltk.RegexpParser(pattern)\n",
    "\n",
    "\n",
    "for index, row in url.iterrows():\n",
    "    result = requests.get(row['url'])\n",
    "    c = result.content\n",
    "    soup = BeautifulSoup(c)\n",
    "    p_tags = soup.find_all(\"p\", limit=3)\n",
    "    # Get the text from each of the “p” tags and strip surrounding whitespace.\n",
    "    p_tags_text = [tag.get_text().strip() for tag in p_tags]\n",
    "    \n",
    "    # Filter out sentences that contain newline characters '\\n' or don't contain periods.\n",
    "    sentence_list = [sentence for sentence in p_tags_text if not '\\n' in sentence]\n",
    "    sentence_list = [sentence for sentence in sentence_list if '.' in sentence]\n",
    "    # Combine list items into string.\n",
    "    article = ' '.join(sentence_list)\n",
    "    \n",
    "    # Use NER to get the named entities in the artcle and add them into watch_list\n",
    "    sent = preprocess(article)\n",
    "    url_list = []\n",
    "    article_list = []\n",
    "        \n",
    "    if sent:\n",
    "        \n",
    "        doc = nlp(article)\n",
    "        watch_name = []\n",
    "        watch_label = []\n",
    "        doc_ref = []\n",
    "        \n",
    "            \n",
    "        \n",
    "       \n",
    "        for x in doc.ents:\n",
    "#             print (x.text, x.label)\n",
    "            if x.label == 383 or x.label == 380:\n",
    "                watch_name.append(x.text)\n",
    "                if x.label == 383:\n",
    "                    label_desc = 'ORG'\n",
    "                else:\n",
    "                    label_desc = 'PERSON'\n",
    "                watch_label.append(label_desc)\n",
    "                doc_ref.append(row['url'])\n",
    "        \n",
    "        # Add to Watch_df and ref_df with the doc_ref key\n",
    "        watch_df = pd.DataFrame()\n",
    "        watch_df['doc_ref'] = doc_ref\n",
    "        watch_df['level'] = 0.1\n",
    "        watch_df['watch_name'] = watch_name\n",
    "        watch_df['watch_label'] = watch_label\n",
    "        watch_df['alert_score'] = row['fast_index']\n",
    "        watch_df.to_csv(r'C:\\Users\\alapatt\\DSAssignments\\Big Data\\watch_df.csv', mode='a', header=False, index=False) \n",
    "        \n",
    "        url_list.append(row['url'])\n",
    "        article_list.append(article)\n",
    "    \n",
    "    article_df = pd.DataFrame()\n",
    "    article_df['doc_ref'] = url_list\n",
    "    article_df['article'] = article_list\n",
    "    article_df.to_csv(r'C:\\Users\\alapatt\\DSAssignments\\Big Data\\article_df.csv', mode='a', header=False, index=False) \n",
    "        \n",
    "        \n",
    "        \n",
    "        \n",
    "\n"
   ]
  },
  {
   "cell_type": "code",
   "execution_count": 152,
   "metadata": {},
   "outputs": [],
   "source": [
    "# Match and create alert_list for Tx_file (batch) - Online to be done later but same way\n",
    "\n",
    "# read Tx batch file (Structured) and Watchlist file (Unstructured made structured) by join\n",
    "\n",
    "tx_df = pd.read_csv(r'C:\\Users\\alapatt\\DSAssignments\\Big Data\\tx_df1.csv')\n",
    "watch_df = pd.read_csv(r'C:\\Users\\alapatt\\DSAssignments\\Big Data\\watch_df.csv')\n",
    "\n",
    "alert_match_df_payee = tx_df.merge(watch_df, how='inner', left_on=['tx_payee_name'], right_on=['watch_name'])\n",
    "alert_match_df_ben = tx_df.merge(watch_df, how='inner', left_on=['tx_ben_name'], right_on=['watch_name'])\n",
    "\n",
    "# add payee and beneficiary into watch list if not existing already\n",
    "\n",
    "alert_match_df = pd.concat((alert_match_df_payee, alert_match_df_ben), ignore_index = True, axis = 0)\n",
    "\n",
    "alert_name_list = list(watch_df['watch_name'])\n",
    "watch_list = []\n",
    "level_limit = 1.0\n",
    "\n",
    "for index, row in alert_match_df.iterrows():\n",
    "    if row['level'] < level_limit:\n",
    "        if row['tx_payee_name'] not in alert_name_list:\n",
    "            \n",
    "            level = row['level'] + 1\n",
    "            watch_list.append([row['doc_ref'], level, row['tx_payee_name'], 'INT', level])\n",
    "            alert_name_list.append(row['tx_payee_name'])\n",
    "        \n",
    "        elif row['tx_ben_name'] not in alert_name_list:\n",
    "            level = row['level'] + 1\n",
    "            watch_list.append([row['doc_ref'], level, row['tx_ben_name'], 'INT', level])\n",
    "            alert_name_list.append(row['tx_ben_name'])\n",
    "    \n",
    "\n",
    "add_watch_df = pd.DataFrame(watch_list,columns = ['doc_ref', 'level', 'watch_name', 'watch_label', 'alert_score'])\n",
    "\n",
    "# Should be done later - process remarks column for all names and add to watch list if not existing already\n",
    "\n",
    "# add new entries identified into watch_df\n",
    "add_watch_df.to_csv(r'C:\\Users\\alapatt\\DSAssignments\\Big Data\\watch_df.csv', mode='a', header=False, index=False) \n",
    "\n",
    "# file_ref = datetime.now()\n",
    "# filename = 'alert_tx_df' + fileref\n",
    "alert_match_df.to_csv(r'C:\\Users\\alapatt\\DSAssignments\\Big Data\\alert_tx_df.csv', header=True, index=False) \n",
    "\n",
    "\n",
    "\n",
    "\n",
    "\n",
    "\n",
    "\n"
   ]
  },
  {
   "cell_type": "code",
   "execution_count": 153,
   "metadata": {},
   "outputs": [
    {
     "data": {
      "image/png": "[encoded data removed]",
      "text/plain": [
       "<Figure size 432x432 with 1 Axes>"
      ]
     },
     "metadata": {},
     "output_type": "display_data"
    }
   ],
   "source": [
    "\n",
    "# create the plot on level wise location network\n",
    "\n",
    "alert_match_df = pd.read_csv(r'C:\\Users\\alapatt\\DSAssignments\\Big Data\\alert_tx_df.csv')\n",
    "\n",
    "# create edges from the Tx_df\n",
    "edges = alert_match_df[['tx_payee_state', 'tx_ben_state']].values\n",
    "\n",
    "#create the networkX graph from the edges array\n",
    "g = nx.from_edgelist(edges)\n",
    "\n",
    "#plot the graph\n",
    "fig, ax = plt.subplots(1, 1, figsize=(6, 6))\n",
    "nx.draw_networkx(g, ax=ax, with_labels=True,\n",
    "                 node_size=5, font_size=15, alpha=.5, width=.5)\n",
    "ax.set_axis_off()\n",
    "\n",
    "\n",
    "\n",
    "# plt.savefig(r'C:\\Users\\alapatt\\DSAssignments\\Big Data\\city_alert_network.png')\n",
    "\n",
    "\n"
   ]
  },
  {
   "cell_type": "code",
   "execution_count": 154,
   "metadata": {},
   "outputs": [
    {
     "data": {
      "image/png": "[encoded data removed]",
      "text/plain": [
       "<Figure size 432x288 with 1 Axes>"
      ]
     },
     "metadata": {},
     "output_type": "display_data"
    },
    {
     "data": {
      "text/plain": [
       "<Figure size 432x288 with 0 Axes>"
      ]
     },
     "metadata": {},
     "output_type": "display_data"
    }
   ],
   "source": [
    "#show # of edges\n",
    "pos = nx.spring_layout(g)\n",
    "counts = alert_match_df.groupby('tx_payee_state')['tx_ben_state'].value_counts().to_dict()\n",
    "\n",
    "# Offset for node labels\n",
    "offset = 0.15\n",
    "pos_labels = {}\n",
    "keys = pos.keys()\n",
    "for key in keys:\n",
    "    x, y = pos[key]\n",
    "    pos_labels[key] = (x, y + offset)\n",
    "\n",
    "nx.draw_networkx(g, pos=pos, with_labels=True, node_color='#1f0ee3', node_size=150,\n",
    "                 edge_color='r', width=0.4, alpha=0.5, style='dashed',\n",
    "                 font_color='k', font_size=15, font_weight=30)\n",
    "\n",
    "plt.xlim(-1.25, 1.25)\n",
    "plt.ylim(-1.25, 1.25)\n",
    "plt.title('State network on potential fraud fin. transactions')\n",
    "plt.show()\n",
    "plt.savefig(r'C:\\Users\\alapatt\\DSAssignments\\Big Data\\state_alert_network.png')\n",
    "\n",
    "\n"
   ]
  },
  {
   "cell_type": "code",
   "execution_count": 155,
   "metadata": {},
   "outputs": [
    {
     "data": {
      "application/vnd.plotly.v1+json": {
       "config": {
        "plotlyServerURL": "https://plot.ly"
       },
       "data": [
        {
         "alignmentgroup": "True",
         "customdata": [
          [
           "Arkansas",
           16
          ],
          [
           "Maryland",
           3
          ],
          [
           "Arkansas",
           11
          ],
          [
           "Maryland",
           2
          ],
          [
           "Arkansas",
           8
          ],
          [
           "Maryland",
           5
          ],
          [
           "Alabama",
           4
          ],
          [
           "Alaska",
           13
          ],
          [
           "Arizona",
           13
          ],
          [
           "Arkansas",
           12
          ],
          [
           "California",
           26
          ],
          [
           "Colorado",
           9
          ],
          [
           "Connecticut",
           11
          ],
          [
           "Dist. of Columbia",
           7
          ],
          [
           "Florida",
           18
          ],
          [
           "Georgia",
           4
          ],
          [
           "Kentucky",
           8
          ],
          [
           "Maryland",
           12
          ],
          [
           "Massachusetts",
           14
          ],
          [
           "Oklahoma",
           7
          ],
          [
           "Tennessee",
           10
          ],
          [
           "Vermont",
           10
          ],
          [
           "Arkansas",
           15
          ],
          [
           "Maryland",
           10
          ],
          [
           "Arkansas",
           16
          ],
          [
           "Maryland",
           1
          ],
          [
           "Arkansas",
           5
          ],
          [
           "Maryland",
           7
          ],
          [
           "Arkansas",
           11
          ],
          [
           "Maryland",
           5
          ],
          [
           "Arkansas",
           16
          ],
          [
           "Maryland",
           6
          ],
          [
           "Arkansas",
           12
          ],
          [
           "Maryland",
           5
          ],
          [
           "Arkansas",
           9
          ],
          [
           "Maryland",
           4
          ],
          [
           "Alabama",
           4
          ],
          [
           "Alaska",
           3
          ],
          [
           "Arizona",
           6
          ],
          [
           "Arkansas",
           16
          ],
          [
           "California",
           8
          ],
          [
           "Colorado",
           9
          ],
          [
           "Connecticut",
           4
          ],
          [
           "Dist. of Columbia",
           6
          ],
          [
           "Florida",
           5
          ],
          [
           "Georgia",
           8
          ],
          [
           "Kentucky",
           5
          ],
          [
           "Maryland",
           13
          ],
          [
           "Massachusetts",
           7
          ],
          [
           "Oklahoma",
           4
          ],
          [
           "Tennessee",
           9
          ],
          [
           "Vermont",
           6
          ],
          [
           "Arkansas",
           9
          ],
          [
           "Maryland",
           6
          ],
          [
           "Arkansas",
           8
          ],
          [
           "Maryland",
           6
          ],
          [
           "Arkansas",
           9
          ],
          [
           "Maryland",
           5
          ],
          [
           "Arkansas",
           13
          ],
          [
           "Maryland",
           8
          ]
         ],
         "hoverlabel": {
          "namelength": 0
         },
         "hovertemplate": "tx_payee_state=%{x}<br>tx_count=%{marker.color}<br>tx_ben_state=%{customdata[0]}",
         "legendgroup": "",
         "marker": {
          "color": [
           16,
           3,
           11,
           2,
           8,
           5,
           4,
           13,
           13,
           12,
           26,
           9,
           11,
           7,
           18,
           4,
           8,
           12,
           14,
           7,
           10,
           10,
           15,
           10,
           16,
           1,
           5,
           7,
           11,
           5,
           16,
           6,
           12,
           5,
           9,
           4,
           4,
           3,
           6,
           16,
           8,
           9,
           4,
           6,
           5,
           8,
           5,
           13,
           7,
           4,
           9,
           6,
           9,
           6,
           8,
           6,
           9,
           5,
           13,
           8
          ],
          "coloraxis": "coloraxis"
         },
         "name": "",
         "offsetgroup": "",
         "orientation": "v",
         "showlegend": false,
         "textposition": "auto",
         "type": "bar",
         "x": [
          "Alabama",
          "Alabama",
          "Alaska",
          "Alaska",
          "Arizona",
          "Arizona",
          "Arkansas",
          "Arkansas",
          "Arkansas",
          "Arkansas",
          "Arkansas",
          "Arkansas",
          "Arkansas",
          "Arkansas",
          "Arkansas",
          "Arkansas",
          "Arkansas",
          "Arkansas",
          "Arkansas",
          "Arkansas",
          "Arkansas",
          "Arkansas",
          "California",
          "California",
          "Colorado",
          "Colorado",
          "Connecticut",
          "Connecticut",
          "Dist. of Columbia",
          "Dist. of Columbia",
          "Florida",
          "Florida",
          "Georgia",
          "Georgia",
          "Kentucky",
          "Kentucky",
          "Maryland",
          "Maryland",
          "Maryland",
          "Maryland",
          "Maryland",
          "Maryland",
          "Maryland",
          "Maryland",
          "Maryland",
          "Maryland",
          "Maryland",
          "Maryland",
          "Maryland",
          "Maryland",
          "Maryland",
          "Maryland",
          "Massachusetts",
          "Massachusetts",
          "Oklahoma",
          "Oklahoma",
          "Tennessee",
          "Tennessee",
          "Vermont",
          "Vermont"
         ],
         "xaxis": "x",
         "y": [
          16,
          3,
          11,
          2,
          8,
          5,
          4,
          13,
          13,
          12,
          26,
          9,
          11,
          7,
          18,
          4,
          8,
          12,
          14,
          7,
          10,
          10,
          15,
          10,
          16,
          1,
          5,
          7,
          11,
          5,
          16,
          6,
          12,
          5,
          9,
          4,
          4,
          3,
          6,
          16,
          8,
          9,
          4,
          6,
          5,
          8,
          5,
          13,
          7,
          4,
          9,
          6,
          9,
          6,
          8,
          6,
          9,
          5,
          13,
          8
         ],
         "yaxis": "y"
        }
       ],
       "layout": {
        "barmode": "relative",
        "coloraxis": {
         "colorbar": {
          "title": {
           "text": "tx_count"
          }
         },
         "colorscale": [
          [
           0,
           "#0d0887"
          ],
          [
           0.1111111111111111,
           "#46039f"
          ],
          [
           0.2222222222222222,
           "#7201a8"
          ],
          [
           0.3333333333333333,
           "#9c179e"
          ],
          [
           0.4444444444444444,
           "#bd3786"
          ],
          [
           0.5555555555555556,
           "#d8576b"
          ],
          [
           0.6666666666666666,
           "#ed7953"
          ],
          [
           0.7777777777777778,
           "#fb9f3a"
          ],
          [
           0.8888888888888888,
           "#fdca26"
          ],
          [
           1,
           "#f0f921"
          ]
         ]
        },
        "height": 400,
        "legend": {
         "tracegroupgap": 0
        },
        "margin": {
         "t": 60
        },
        "template": {
         "data": {
          "bar": [
           {
            "error_x": {
             "color": "#2a3f5f"
            },
            "error_y": {
             "color": "#2a3f5f"
            },
            "marker": {
             "line": {
              "color": "#E5ECF6",
              "width": 0.5
             }
            },
            "type": "bar"
           }
          ],
          "barpolar": [
           {
            "marker": {
             "line": {
              "color": "#E5ECF6",
              "width": 0.5
             }
            },
            "type": "barpolar"
           }
          ],
          "carpet": [
           {
            "aaxis": {
             "endlinecolor": "#2a3f5f",
             "gridcolor": "white",
             "linecolor": "white",
             "minorgridcolor": "white",
             "startlinecolor": "#2a3f5f"
            },
            "baxis": {
             "endlinecolor": "#2a3f5f",
             "gridcolor": "white",
             "linecolor": "white",
             "minorgridcolor": "white",
             "startlinecolor": "#2a3f5f"
            },
            "type": "carpet"
           }
          ],
          "choropleth": [
           {
            "colorbar": {
             "outlinewidth": 0,
             "ticks": ""
            },
            "type": "choropleth"
           }
          ],
          "contour": [
           {
            "colorbar": {
             "outlinewidth": 0,
             "ticks": ""
            },
            "colorscale": [
             [
              0,
              "#0d0887"
             ],
             [
              0.1111111111111111,
              "#46039f"
             ],
             [
              0.2222222222222222,
              "#7201a8"
             ],
             [
              0.3333333333333333,
              "#9c179e"
             ],
             [
              0.4444444444444444,
              "#bd3786"
             ],
             [
              0.5555555555555556,
              "#d8576b"
             ],
             [
              0.6666666666666666,
              "#ed7953"
             ],
             [
              0.7777777777777778,
              "#fb9f3a"
             ],
             [
              0.8888888888888888,
              "#fdca26"
             ],
             [
              1,
              "#f0f921"
             ]
            ],
            "type": "contour"
           }
          ],
          "contourcarpet": [
           {
            "colorbar": {
             "outlinewidth": 0,
             "ticks": ""
            },
            "type": "contourcarpet"
           }
          ],
          "heatmap": [
           {
            "colorbar": {
             "outlinewidth": 0,
             "ticks": ""
            },
            "colorscale": [
             [
              0,
              "#0d0887"
             ],
             [
              0.1111111111111111,
              "#46039f"
             ],
             [
              0.2222222222222222,
              "#7201a8"
             ],
             [
              0.3333333333333333,
              "#9c179e"
             ],
             [
              0.4444444444444444,
              "#bd3786"
             ],
             [
              0.5555555555555556,
              "#d8576b"
             ],
             [
              0.6666666666666666,
              "#ed7953"
             ],
             [
              0.7777777777777778,
              "#fb9f3a"
             ],
             [
              0.8888888888888888,
              "#fdca26"
             ],
             [
              1,
              "#f0f921"
             ]
            ],
            "type": "heatmap"
           }
          ],
          "heatmapgl": [
           {
            "colorbar": {
             "outlinewidth": 0,
             "ticks": ""
            },
            "colorscale": [
             [
              0,
              "#0d0887"
             ],
             [
              0.1111111111111111,
              "#46039f"
             ],
             [
              0.2222222222222222,
              "#7201a8"
             ],
             [
              0.3333333333333333,
              "#9c179e"
             ],
             [
              0.4444444444444444,
              "#bd3786"
             ],
             [
              0.5555555555555556,
              "#d8576b"
             ],
             [
              0.6666666666666666,
              "#ed7953"
             ],
             [
              0.7777777777777778,
              "#fb9f3a"
             ],
             [
              0.8888888888888888,
              "#fdca26"
             ],
             [
              1,
              "#f0f921"
             ]
            ],
            "type": "heatmapgl"
           }
          ],
          "histogram": [
           {
            "marker": {
             "colorbar": {
              "outlinewidth": 0,
              "ticks": ""
             }
            },
            "type": "histogram"
           }
          ],
          "histogram2d": [
           {
            "colorbar": {
             "outlinewidth": 0,
             "ticks": ""
            },
            "colorscale": [
             [
              0,
              "#0d0887"
             ],
             [
              0.1111111111111111,
              "#46039f"
             ],
             [
              0.2222222222222222,
              "#7201a8"
             ],
             [
              0.3333333333333333,
              "#9c179e"
             ],
             [
              0.4444444444444444,
              "#bd3786"
             ],
             [
              0.5555555555555556,
              "#d8576b"
             ],
             [
              0.6666666666666666,
              "#ed7953"
             ],
             [
              0.7777777777777778,
              "#fb9f3a"
             ],
             [
              0.8888888888888888,
              "#fdca26"
             ],
             [
              1,
              "#f0f921"
             ]
            ],
            "type": "histogram2d"
           }
          ],
          "histogram2dcontour": [
           {
            "colorbar": {
             "outlinewidth": 0,
             "ticks": ""
            },
            "colorscale": [
             [
              0,
              "#0d0887"
             ],
             [
              0.1111111111111111,
              "#46039f"
             ],
             [
              0.2222222222222222,
              "#7201a8"
             ],
             [
              0.3333333333333333,
              "#9c179e"
             ],
             [
              0.4444444444444444,
              "#bd3786"
             ],
             [
              0.5555555555555556,
              "#d8576b"
             ],
             [
              0.6666666666666666,
              "#ed7953"
             ],
             [
              0.7777777777777778,
              "#fb9f3a"
             ],
             [
              0.8888888888888888,
              "#fdca26"
             ],
             [
              1,
              "#f0f921"
             ]
            ],
            "type": "histogram2dcontour"
           }
          ],
          "mesh3d": [
           {
            "colorbar": {
             "outlinewidth": 0,
             "ticks": ""
            },
            "type": "mesh3d"
           }
          ],
          "parcoords": [
           {
            "line": {
             "colorbar": {
              "outlinewidth": 0,
              "ticks": ""
             }
            },
            "type": "parcoords"
           }
          ],
          "pie": [
           {
            "automargin": true,
            "type": "pie"
           }
          ],
          "scatter": [
           {
            "marker": {
             "colorbar": {
              "outlinewidth": 0,
              "ticks": ""
             }
            },
            "type": "scatter"
           }
          ],
          "scatter3d": [
           {
            "line": {
             "colorbar": {
              "outlinewidth": 0,
              "ticks": ""
             }
            },
            "marker": {
             "colorbar": {
              "outlinewidth": 0,
              "ticks": ""
             }
            },
            "type": "scatter3d"
           }
          ],
          "scattercarpet": [
           {
            "marker": {
             "colorbar": {
              "outlinewidth": 0,
              "ticks": ""
             }
            },
            "type": "scattercarpet"
           }
          ],
          "scattergeo": [
           {
            "marker": {
             "colorbar": {
              "outlinewidth": 0,
              "ticks": ""
             }
            },
            "type": "scattergeo"
           }
          ],
          "scattergl": [
           {
            "marker": {
             "colorbar": {
              "outlinewidth": 0,
              "ticks": ""
             }
            },
            "type": "scattergl"
           }
          ],
          "scattermapbox": [
           {
            "marker": {
             "colorbar": {
              "outlinewidth": 0,
              "ticks": ""
             }
            },
            "type": "scattermapbox"
           }
          ],
          "scatterpolar": [
           {
            "marker": {
             "colorbar": {
              "outlinewidth": 0,
              "ticks": ""
             }
            },
            "type": "scatterpolar"
           }
          ],
          "scatterpolargl": [
           {
            "marker": {
             "colorbar": {
              "outlinewidth": 0,
              "ticks": ""
             }
            },
            "type": "scatterpolargl"
           }
          ],
          "scatterternary": [
           {
            "marker": {
             "colorbar": {
              "outlinewidth": 0,
              "ticks": ""
             }
            },
            "type": "scatterternary"
           }
          ],
          "surface": [
           {
            "colorbar": {
             "outlinewidth": 0,
             "ticks": ""
            },
            "colorscale": [
             [
              0,
              "#0d0887"
             ],
             [
              0.1111111111111111,
              "#46039f"
             ],
             [
              0.2222222222222222,
              "#7201a8"
             ],
             [
              0.3333333333333333,
              "#9c179e"
             ],
             [
              0.4444444444444444,
              "#bd3786"
             ],
             [
              0.5555555555555556,
              "#d8576b"
             ],
             [
              0.6666666666666666,
              "#ed7953"
             ],
             [
              0.7777777777777778,
              "#fb9f3a"
             ],
             [
              0.8888888888888888,
              "#fdca26"
             ],
             [
              1,
              "#f0f921"
             ]
            ],
            "type": "surface"
           }
          ],
          "table": [
           {
            "cells": {
             "fill": {
              "color": "#EBF0F8"
             },
             "line": {
              "color": "white"
             }
            },
            "header": {
             "fill": {
              "color": "#C8D4E3"
             },
             "line": {
              "color": "white"
             }
            },
            "type": "table"
           }
          ]
         },
         "layout": {
          "annotationdefaults": {
           "arrowcolor": "#2a3f5f",
           "arrowhead": 0,
           "arrowwidth": 1
          },
          "coloraxis": {
           "colorbar": {
            "outlinewidth": 0,
            "ticks": ""
           }
          },
          "colorscale": {
           "diverging": [
            [
             0,
             "#8e0152"
            ],
            [
             0.1,
             "#c51b7d"
            ],
            [
             0.2,
             "#de77ae"
            ],
            [
             0.3,
             "#f1b6da"
            ],
            [
             0.4,
             "#fde0ef"
            ],
            [
             0.5,
             "#f7f7f7"
            ],
            [
             0.6,
             "#e6f5d0"
            ],
            [
             0.7,
             "#b8e186"
            ],
            [
             0.8,
             "#7fbc41"
            ],
            [
             0.9,
             "#4d9221"
            ],
            [
             1,
             "#276419"
            ]
           ],
           "sequential": [
            [
             0,
             "#0d0887"
            ],
            [
             0.1111111111111111,
             "#46039f"
            ],
            [
             0.2222222222222222,
             "#7201a8"
            ],
            [
             0.3333333333333333,
             "#9c179e"
            ],
            [
             0.4444444444444444,
             "#bd3786"
            ],
            [
             0.5555555555555556,
             "#d8576b"
            ],
            [
             0.6666666666666666,
             "#ed7953"
            ],
            [
             0.7777777777777778,
             "#fb9f3a"
            ],
            [
             0.8888888888888888,
             "#fdca26"
            ],
            [
             1,
             "#f0f921"
            ]
           ],
           "sequentialminus": [
            [
             0,
             "#0d0887"
            ],
            [
             0.1111111111111111,
             "#46039f"
            ],
            [
             0.2222222222222222,
             "#7201a8"
            ],
            [
             0.3333333333333333,
             "#9c179e"
            ],
            [
             0.4444444444444444,
             "#bd3786"
            ],
            [
             0.5555555555555556,
             "#d8576b"
            ],
            [
             0.6666666666666666,
             "#ed7953"
            ],
            [
             0.7777777777777778,
             "#fb9f3a"
            ],
            [
             0.8888888888888888,
             "#fdca26"
            ],
            [
             1,
             "#f0f921"
            ]
           ]
          },
          "colorway": [
           "#636efa",
           "#EF553B",
           "#00cc96",
           "#ab63fa",
           "#FFA15A",
           "#19d3f3",
           "#FF6692",
           "#B6E880",
           "#FF97FF",
           "#FECB52"
          ],
          "font": {
           "color": "#2a3f5f"
          },
          "geo": {
           "bgcolor": "white",
           "lakecolor": "white",
           "landcolor": "#E5ECF6",
           "showlakes": true,
           "showland": true,
           "subunitcolor": "white"
          },
          "hoverlabel": {
           "align": "left"
          },
          "hovermode": "closest",
          "mapbox": {
           "style": "light"
          },
          "paper_bgcolor": "white",
          "plot_bgcolor": "#E5ECF6",
          "polar": {
           "angularaxis": {
            "gridcolor": "white",
            "linecolor": "white",
            "ticks": ""
           },
           "bgcolor": "#E5ECF6",
           "radialaxis": {
            "gridcolor": "white",
            "linecolor": "white",
            "ticks": ""
           }
          },
          "scene": {
           "xaxis": {
            "backgroundcolor": "#E5ECF6",
            "gridcolor": "white",
            "gridwidth": 2,
            "linecolor": "white",
            "showbackground": true,
            "ticks": "",
            "zerolinecolor": "white"
           },
           "yaxis": {
            "backgroundcolor": "#E5ECF6",
            "gridcolor": "white",
            "gridwidth": 2,
            "linecolor": "white",
            "showbackground": true,
            "ticks": "",
            "zerolinecolor": "white"
           },
           "zaxis": {
            "backgroundcolor": "#E5ECF6",
            "gridcolor": "white",
            "gridwidth": 2,
            "linecolor": "white",
            "showbackground": true,
            "ticks": "",
            "zerolinecolor": "white"
           }
          },
          "shapedefaults": {
           "line": {
            "color": "#2a3f5f"
           }
          },
          "ternary": {
           "aaxis": {
            "gridcolor": "white",
            "linecolor": "white",
            "ticks": ""
           },
           "baxis": {
            "gridcolor": "white",
            "linecolor": "white",
            "ticks": ""
           },
           "bgcolor": "#E5ECF6",
           "caxis": {
            "gridcolor": "white",
            "linecolor": "white",
            "ticks": ""
           }
          },
          "title": {
           "x": 0.05
          },
          "xaxis": {
           "automargin": true,
           "gridcolor": "white",
           "linecolor": "white",
           "ticks": "",
           "title": {
            "standoff": 15
           },
           "zerolinecolor": "white",
           "zerolinewidth": 2
          },
          "yaxis": {
           "automargin": true,
           "gridcolor": "white",
           "linecolor": "white",
           "ticks": "",
           "title": {
            "standoff": 15
           },
           "zerolinecolor": "white",
           "zerolinewidth": 2
          }
         }
        },
        "xaxis": {
         "anchor": "y",
         "domain": [
          0,
          1
         ],
         "title": {
          "text": "tx_payee_state"
         }
        },
        "yaxis": {
         "anchor": "x",
         "domain": [
          0,
          1
         ],
         "title": {
          "text": "tx_count"
         }
        }
       }
      },
      "text/html": [
       "<div>\n",
       "        \n",
       "        \n",
       "            <div id=\"41b2b209-6f57-48b1-ad11-bd4b0dd71b09\" class=\"plotly-graph-div\" style=\"height:400px; width:100%;\"></div>\n",
       "            <script type=\"text/javascript\">\n",
       "                require([\"plotly\"], function(Plotly) {\n",
       "                    window.PLOTLYENV=window.PLOTLYENV || {};\n",
       "                    \n",
       "                if (document.getElementById(\"41b2b209-6f57-48b1-ad11-bd4b0dd71b09\")) {\n",
       "                    Plotly.newPlot(\n",
       "                        '41b2b209-6f57-48b1-ad11-bd4b0dd71b09',\n",
       "                        [{\"alignmentgroup\": \"True\", \"customdata\": [[\"Arkansas\", 16], [\"Maryland\", 3], [\"Arkansas\", 11], [\"Maryland\", 2], [\"Arkansas\", 8], [\"Maryland\", 5], [\"Alabama\", 4], [\"Alaska\", 13], [\"Arizona\", 13], [\"Arkansas\", 12], [\"California\", 26], [\"Colorado\", 9], [\"Connecticut\", 11], [\"Dist. of Columbia\", 7], [\"Florida\", 18], [\"Georgia\", 4], [\"Kentucky\", 8], [\"Maryland\", 12], [\"Massachusetts\", 14], [\"Oklahoma\", 7], [\"Tennessee\", 10], [\"Vermont\", 10], [\"Arkansas\", 15], [\"Maryland\", 10], [\"Arkansas\", 16], [\"Maryland\", 1], [\"Arkansas\", 5], [\"Maryland\", 7], [\"Arkansas\", 11], [\"Maryland\", 5], [\"Arkansas\", 16], [\"Maryland\", 6], [\"Arkansas\", 12], [\"Maryland\", 5], [\"Arkansas\", 9], [\"Maryland\", 4], [\"Alabama\", 4], [\"Alaska\", 3], [\"Arizona\", 6], [\"Arkansas\", 16], [\"California\", 8], [\"Colorado\", 9], [\"Connecticut\", 4], [\"Dist. of Columbia\", 6], [\"Florida\", 5], [\"Georgia\", 8], [\"Kentucky\", 5], [\"Maryland\", 13], [\"Massachusetts\", 7], [\"Oklahoma\", 4], [\"Tennessee\", 9], [\"Vermont\", 6], [\"Arkansas\", 9], [\"Maryland\", 6], [\"Arkansas\", 8], [\"Maryland\", 6], [\"Arkansas\", 9], [\"Maryland\", 5], [\"Arkansas\", 13], [\"Maryland\", 8]], \"hoverlabel\": {\"namelength\": 0}, \"hovertemplate\": \"tx_payee_state=%{x}<br>tx_count=%{marker.color}<br>tx_ben_state=%{customdata[0]}\", \"legendgroup\": \"\", \"marker\": {\"color\": [16, 3, 11, 2, 8, 5, 4, 13, 13, 12, 26, 9, 11, 7, 18, 4, 8, 12, 14, 7, 10, 10, 15, 10, 16, 1, 5, 7, 11, 5, 16, 6, 12, 5, 9, 4, 4, 3, 6, 16, 8, 9, 4, 6, 5, 8, 5, 13, 7, 4, 9, 6, 9, 6, 8, 6, 9, 5, 13, 8], \"coloraxis\": \"coloraxis\"}, \"name\": \"\", \"offsetgroup\": \"\", \"orientation\": \"v\", \"showlegend\": false, \"textposition\": \"auto\", \"type\": \"bar\", \"x\": [\"Alabama\", \"Alabama\", \"Alaska\", \"Alaska\", \"Arizona\", \"Arizona\", \"Arkansas\", \"Arkansas\", \"Arkansas\", \"Arkansas\", \"Arkansas\", \"Arkansas\", \"Arkansas\", \"Arkansas\", \"Arkansas\", \"Arkansas\", \"Arkansas\", \"Arkansas\", \"Arkansas\", \"Arkansas\", \"Arkansas\", \"Arkansas\", \"California\", \"California\", \"Colorado\", \"Colorado\", \"Connecticut\", \"Connecticut\", \"Dist. of Columbia\", \"Dist. of Columbia\", \"Florida\", \"Florida\", \"Georgia\", \"Georgia\", \"Kentucky\", \"Kentucky\", \"Maryland\", \"Maryland\", \"Maryland\", \"Maryland\", \"Maryland\", \"Maryland\", \"Maryland\", \"Maryland\", \"Maryland\", \"Maryland\", \"Maryland\", \"Maryland\", \"Maryland\", \"Maryland\", \"Maryland\", \"Maryland\", \"Massachusetts\", \"Massachusetts\", \"Oklahoma\", \"Oklahoma\", \"Tennessee\", \"Tennessee\", \"Vermont\", \"Vermont\"], \"xaxis\": \"x\", \"y\": [16, 3, 11, 2, 8, 5, 4, 13, 13, 12, 26, 9, 11, 7, 18, 4, 8, 12, 14, 7, 10, 10, 15, 10, 16, 1, 5, 7, 11, 5, 16, 6, 12, 5, 9, 4, 4, 3, 6, 16, 8, 9, 4, 6, 5, 8, 5, 13, 7, 4, 9, 6, 9, 6, 8, 6, 9, 5, 13, 8], \"yaxis\": \"y\"}],\n",
       "                        {\"barmode\": \"relative\", \"coloraxis\": {\"colorbar\": {\"title\": {\"text\": \"tx_count\"}}, \"colorscale\": [[0.0, \"#0d0887\"], [0.1111111111111111, \"#46039f\"], [0.2222222222222222, \"#7201a8\"], [0.3333333333333333, \"#9c179e\"], [0.4444444444444444, \"#bd3786\"], [0.5555555555555556, \"#d8576b\"], [0.6666666666666666, \"#ed7953\"], [0.7777777777777778, \"#fb9f3a\"], [0.8888888888888888, \"#fdca26\"], [1.0, \"#f0f921\"]]}, \"height\": 400, \"legend\": {\"tracegroupgap\": 0}, \"margin\": {\"t\": 60}, \"template\": {\"data\": {\"bar\": [{\"error_x\": {\"color\": \"#2a3f5f\"}, \"error_y\": {\"color\": \"#2a3f5f\"}, \"marker\": {\"line\": {\"color\": \"#E5ECF6\", \"width\": 0.5}}, \"type\": \"bar\"}], \"barpolar\": [{\"marker\": {\"line\": {\"color\": \"#E5ECF6\", \"width\": 0.5}}, \"type\": \"barpolar\"}], \"carpet\": [{\"aaxis\": {\"endlinecolor\": \"#2a3f5f\", \"gridcolor\": \"white\", \"linecolor\": \"white\", \"minorgridcolor\": \"white\", \"startlinecolor\": \"#2a3f5f\"}, \"baxis\": {\"endlinecolor\": \"#2a3f5f\", \"gridcolor\": \"white\", \"linecolor\": \"white\", \"minorgridcolor\": \"white\", \"startlinecolor\": \"#2a3f5f\"}, \"type\": \"carpet\"}], \"choropleth\": [{\"colorbar\": {\"outlinewidth\": 0, \"ticks\": \"\"}, \"type\": \"choropleth\"}], \"contour\": [{\"colorbar\": {\"outlinewidth\": 0, \"ticks\": \"\"}, \"colorscale\": [[0.0, \"#0d0887\"], [0.1111111111111111, \"#46039f\"], [0.2222222222222222, \"#7201a8\"], [0.3333333333333333, \"#9c179e\"], [0.4444444444444444, \"#bd3786\"], [0.5555555555555556, \"#d8576b\"], [0.6666666666666666, \"#ed7953\"], [0.7777777777777778, \"#fb9f3a\"], [0.8888888888888888, \"#fdca26\"], [1.0, \"#f0f921\"]], \"type\": \"contour\"}], \"contourcarpet\": [{\"colorbar\": {\"outlinewidth\": 0, \"ticks\": \"\"}, \"type\": \"contourcarpet\"}], \"heatmap\": [{\"colorbar\": {\"outlinewidth\": 0, \"ticks\": \"\"}, \"colorscale\": [[0.0, \"#0d0887\"], [0.1111111111111111, \"#46039f\"], [0.2222222222222222, \"#7201a8\"], [0.3333333333333333, \"#9c179e\"], [0.4444444444444444, \"#bd3786\"], [0.5555555555555556, \"#d8576b\"], [0.6666666666666666, \"#ed7953\"], [0.7777777777777778, \"#fb9f3a\"], [0.8888888888888888, \"#fdca26\"], [1.0, \"#f0f921\"]], \"type\": \"heatmap\"}], \"heatmapgl\": [{\"colorbar\": {\"outlinewidth\": 0, \"ticks\": \"\"}, \"colorscale\": [[0.0, \"#0d0887\"], [0.1111111111111111, \"#46039f\"], [0.2222222222222222, \"#7201a8\"], [0.3333333333333333, \"#9c179e\"], [0.4444444444444444, \"#bd3786\"], [0.5555555555555556, \"#d8576b\"], [0.6666666666666666, \"#ed7953\"], [0.7777777777777778, \"#fb9f3a\"], [0.8888888888888888, \"#fdca26\"], [1.0, \"#f0f921\"]], \"type\": \"heatmapgl\"}], \"histogram\": [{\"marker\": {\"colorbar\": {\"outlinewidth\": 0, \"ticks\": \"\"}}, \"type\": \"histogram\"}], \"histogram2d\": [{\"colorbar\": {\"outlinewidth\": 0, \"ticks\": \"\"}, \"colorscale\": [[0.0, \"#0d0887\"], [0.1111111111111111, \"#46039f\"], [0.2222222222222222, \"#7201a8\"], [0.3333333333333333, \"#9c179e\"], [0.4444444444444444, \"#bd3786\"], [0.5555555555555556, \"#d8576b\"], [0.6666666666666666, \"#ed7953\"], [0.7777777777777778, \"#fb9f3a\"], [0.8888888888888888, \"#fdca26\"], [1.0, \"#f0f921\"]], \"type\": \"histogram2d\"}], \"histogram2dcontour\": [{\"colorbar\": {\"outlinewidth\": 0, \"ticks\": \"\"}, \"colorscale\": [[0.0, \"#0d0887\"], [0.1111111111111111, \"#46039f\"], [0.2222222222222222, \"#7201a8\"], [0.3333333333333333, \"#9c179e\"], [0.4444444444444444, \"#bd3786\"], [0.5555555555555556, \"#d8576b\"], [0.6666666666666666, \"#ed7953\"], [0.7777777777777778, \"#fb9f3a\"], [0.8888888888888888, \"#fdca26\"], [1.0, \"#f0f921\"]], \"type\": \"histogram2dcontour\"}], \"mesh3d\": [{\"colorbar\": {\"outlinewidth\": 0, \"ticks\": \"\"}, \"type\": \"mesh3d\"}], \"parcoords\": [{\"line\": {\"colorbar\": {\"outlinewidth\": 0, \"ticks\": \"\"}}, \"type\": \"parcoords\"}], \"pie\": [{\"automargin\": true, \"type\": \"pie\"}], \"scatter\": [{\"marker\": {\"colorbar\": {\"outlinewidth\": 0, \"ticks\": \"\"}}, \"type\": \"scatter\"}], \"scatter3d\": [{\"line\": {\"colorbar\": {\"outlinewidth\": 0, \"ticks\": \"\"}}, \"marker\": {\"colorbar\": {\"outlinewidth\": 0, \"ticks\": \"\"}}, \"type\": \"scatter3d\"}], \"scattercarpet\": [{\"marker\": {\"colorbar\": {\"outlinewidth\": 0, \"ticks\": \"\"}}, \"type\": \"scattercarpet\"}], \"scattergeo\": [{\"marker\": {\"colorbar\": {\"outlinewidth\": 0, \"ticks\": \"\"}}, \"type\": \"scattergeo\"}], \"scattergl\": [{\"marker\": {\"colorbar\": {\"outlinewidth\": 0, \"ticks\": \"\"}}, \"type\": \"scattergl\"}], \"scattermapbox\": [{\"marker\": {\"colorbar\": {\"outlinewidth\": 0, \"ticks\": \"\"}}, \"type\": \"scattermapbox\"}], \"scatterpolar\": [{\"marker\": {\"colorbar\": {\"outlinewidth\": 0, \"ticks\": \"\"}}, \"type\": \"scatterpolar\"}], \"scatterpolargl\": [{\"marker\": {\"colorbar\": {\"outlinewidth\": 0, \"ticks\": \"\"}}, \"type\": \"scatterpolargl\"}], \"scatterternary\": [{\"marker\": {\"colorbar\": {\"outlinewidth\": 0, \"ticks\": \"\"}}, \"type\": \"scatterternary\"}], \"surface\": [{\"colorbar\": {\"outlinewidth\": 0, \"ticks\": \"\"}, \"colorscale\": [[0.0, \"#0d0887\"], [0.1111111111111111, \"#46039f\"], [0.2222222222222222, \"#7201a8\"], [0.3333333333333333, \"#9c179e\"], [0.4444444444444444, \"#bd3786\"], [0.5555555555555556, \"#d8576b\"], [0.6666666666666666, \"#ed7953\"], [0.7777777777777778, \"#fb9f3a\"], [0.8888888888888888, \"#fdca26\"], [1.0, \"#f0f921\"]], \"type\": \"surface\"}], \"table\": [{\"cells\": {\"fill\": {\"color\": \"#EBF0F8\"}, \"line\": {\"color\": \"white\"}}, \"header\": {\"fill\": {\"color\": \"#C8D4E3\"}, \"line\": {\"color\": \"white\"}}, \"type\": \"table\"}]}, \"layout\": {\"annotationdefaults\": {\"arrowcolor\": \"#2a3f5f\", \"arrowhead\": 0, \"arrowwidth\": 1}, \"coloraxis\": {\"colorbar\": {\"outlinewidth\": 0, \"ticks\": \"\"}}, \"colorscale\": {\"diverging\": [[0, \"#8e0152\"], [0.1, \"#c51b7d\"], [0.2, \"#de77ae\"], [0.3, \"#f1b6da\"], [0.4, \"#fde0ef\"], [0.5, \"#f7f7f7\"], [0.6, \"#e6f5d0\"], [0.7, \"#b8e186\"], [0.8, \"#7fbc41\"], [0.9, \"#4d9221\"], [1, \"#276419\"]], \"sequential\": [[0.0, \"#0d0887\"], [0.1111111111111111, \"#46039f\"], [0.2222222222222222, \"#7201a8\"], [0.3333333333333333, \"#9c179e\"], [0.4444444444444444, \"#bd3786\"], [0.5555555555555556, \"#d8576b\"], [0.6666666666666666, \"#ed7953\"], [0.7777777777777778, \"#fb9f3a\"], [0.8888888888888888, \"#fdca26\"], [1.0, \"#f0f921\"]], \"sequentialminus\": [[0.0, \"#0d0887\"], [0.1111111111111111, \"#46039f\"], [0.2222222222222222, \"#7201a8\"], [0.3333333333333333, \"#9c179e\"], [0.4444444444444444, \"#bd3786\"], [0.5555555555555556, \"#d8576b\"], [0.6666666666666666, \"#ed7953\"], [0.7777777777777778, \"#fb9f3a\"], [0.8888888888888888, \"#fdca26\"], [1.0, \"#f0f921\"]]}, \"colorway\": [\"#636efa\", \"#EF553B\", \"#00cc96\", \"#ab63fa\", \"#FFA15A\", \"#19d3f3\", \"#FF6692\", \"#B6E880\", \"#FF97FF\", \"#FECB52\"], \"font\": {\"color\": \"#2a3f5f\"}, \"geo\": {\"bgcolor\": \"white\", \"lakecolor\": \"white\", \"landcolor\": \"#E5ECF6\", \"showlakes\": true, \"showland\": true, \"subunitcolor\": \"white\"}, \"hoverlabel\": {\"align\": \"left\"}, \"hovermode\": \"closest\", \"mapbox\": {\"style\": \"light\"}, \"paper_bgcolor\": \"white\", \"plot_bgcolor\": \"#E5ECF6\", \"polar\": {\"angularaxis\": {\"gridcolor\": \"white\", \"linecolor\": \"white\", \"ticks\": \"\"}, \"bgcolor\": \"#E5ECF6\", \"radialaxis\": {\"gridcolor\": \"white\", \"linecolor\": \"white\", \"ticks\": \"\"}}, \"scene\": {\"xaxis\": {\"backgroundcolor\": \"#E5ECF6\", \"gridcolor\": \"white\", \"gridwidth\": 2, \"linecolor\": \"white\", \"showbackground\": true, \"ticks\": \"\", \"zerolinecolor\": \"white\"}, \"yaxis\": {\"backgroundcolor\": \"#E5ECF6\", \"gridcolor\": \"white\", \"gridwidth\": 2, \"linecolor\": \"white\", \"showbackground\": true, \"ticks\": \"\", \"zerolinecolor\": \"white\"}, \"zaxis\": {\"backgroundcolor\": \"#E5ECF6\", \"gridcolor\": \"white\", \"gridwidth\": 2, \"linecolor\": \"white\", \"showbackground\": true, \"ticks\": \"\", \"zerolinecolor\": \"white\"}}, \"shapedefaults\": {\"line\": {\"color\": \"#2a3f5f\"}}, \"ternary\": {\"aaxis\": {\"gridcolor\": \"white\", \"linecolor\": \"white\", \"ticks\": \"\"}, \"baxis\": {\"gridcolor\": \"white\", \"linecolor\": \"white\", \"ticks\": \"\"}, \"bgcolor\": \"#E5ECF6\", \"caxis\": {\"gridcolor\": \"white\", \"linecolor\": \"white\", \"ticks\": \"\"}}, \"title\": {\"x\": 0.05}, \"xaxis\": {\"automargin\": true, \"gridcolor\": \"white\", \"linecolor\": \"white\", \"ticks\": \"\", \"title\": {\"standoff\": 15}, \"zerolinecolor\": \"white\", \"zerolinewidth\": 2}, \"yaxis\": {\"automargin\": true, \"gridcolor\": \"white\", \"linecolor\": \"white\", \"ticks\": \"\", \"title\": {\"standoff\": 15}, \"zerolinecolor\": \"white\", \"zerolinewidth\": 2}}}, \"xaxis\": {\"anchor\": \"y\", \"domain\": [0.0, 1.0], \"title\": {\"text\": \"tx_payee_state\"}}, \"yaxis\": {\"anchor\": \"x\", \"domain\": [0.0, 1.0], \"title\": {\"text\": \"tx_count\"}}},\n",
       "                        {\"responsive\": true}\n",
       "                    ).then(function(){\n",
       "                            \n",
       "var gd = document.getElementById('41b2b209-6f57-48b1-ad11-bd4b0dd71b09');\n",
       "var x = new MutationObserver(function (mutations, observer) {{\n",
       "        var display = window.getComputedStyle(gd).display;\n",
       "        if (!display || display === 'none') {{\n",
       "            console.log([gd, 'removed!']);\n",
       "            Plotly.purge(gd);\n",
       "            observer.disconnect();\n",
       "        }}\n",
       "}});\n",
       "\n",
       "// Listen for the removal of the full notebook cells\n",
       "var notebookContainer = gd.closest('#notebook-container');\n",
       "if (notebookContainer) {{\n",
       "    x.observe(notebookContainer, {childList: true});\n",
       "}}\n",
       "\n",
       "// Listen for the clearing of the current output cell\n",
       "var outputEl = gd.closest('.output');\n",
       "if (outputEl) {{\n",
       "    x.observe(outputEl, {childList: true});\n",
       "}}\n",
       "\n",
       "                        })\n",
       "                };\n",
       "                });\n",
       "            </script>\n",
       "        </div>"
      ]
     },
     "metadata": {},
     "output_type": "display_data"
    },
    {
     "data": {
      "text/plain": [
       "<Figure size 432x288 with 0 Axes>"
      ]
     },
     "metadata": {},
     "output_type": "display_data"
    }
   ],
   "source": [
    "# display plot with statewise # of potential fraud transactions\n",
    "\n",
    "statewise_count =  pd.DataFrame({'tx_count' : alert_match_df.groupby(['tx_payee_state', 'tx_ben_state']).size()}).reset_index()\n",
    "import plotly.express as px\n",
    "data = px.data.gapminder()\n",
    "\n",
    "\n",
    "fig = px.bar(statewise_count, x='tx_payee_state', y='tx_count',\n",
    "             hover_data=['tx_ben_state', 'tx_count'],color='tx_count',\n",
    "             labels={'Statewise volume of potential fraud transactions'}, height=400)\n",
    "fig.show()\n",
    "plt.savefig(r'C:\\Users\\alapatt\\DSAssignments\\Big Data\\inter-state transaction volume.png')"
   ]
  },
  {
   "cell_type": "code",
   "execution_count": 156,
   "metadata": {},
   "outputs": [
    {
     "data": {
      "application/vnd.plotly.v1+json": {
       "config": {
        "plotlyServerURL": "https://plot.ly"
       },
       "data": [
        {
         "coloraxis": "coloraxis",
         "geo": "geo",
         "hoverlabel": {
          "namelength": 0
         },
         "hovertemplate": " stusps=%{location}<br>tx_count=%{z}",
         "locationmode": "USA-states",
         "locations": [
          "AL",
          "AK",
          "AZ",
          "AR",
          "CA",
          "CO",
          "CT",
          "FL",
          "GA",
          "KY",
          "MD",
          "MA",
          "OK",
          "TN",
          "VT"
         ],
         "name": "",
         "type": "choropleth",
         "z": [
          27,
          29,
          32,
          364,
          59,
          35,
          27,
          45,
          29,
          26,
          211,
          36,
          25,
          33,
          37
         ]
        }
       ],
       "layout": {
        "coloraxis": {
         "colorbar": {
          "title": {
           "text": "tx_count"
          }
         },
         "colorscale": [
          [
           0,
           "#0d0887"
          ],
          [
           0.1111111111111111,
           "#46039f"
          ],
          [
           0.2222222222222222,
           "#7201a8"
          ],
          [
           0.3333333333333333,
           "#9c179e"
          ],
          [
           0.4444444444444444,
           "#bd3786"
          ],
          [
           0.5555555555555556,
           "#d8576b"
          ],
          [
           0.6666666666666666,
           "#ed7953"
          ],
          [
           0.7777777777777778,
           "#fb9f3a"
          ],
          [
           0.8888888888888888,
           "#fdca26"
          ],
          [
           1,
           "#f0f921"
          ]
         ]
        },
        "geo": {
         "center": {},
         "domain": {
          "x": [
           0,
           1
          ],
          "y": [
           0,
           1
          ]
         },
         "scope": "usa"
        },
        "legend": {
         "tracegroupgap": 0
        },
        "margin": {
         "t": 60
        }
       }
      },
      "text/html": [
       "<div>\n",
       "        \n",
       "        \n",
       "            <div id=\"04538ca4-e6f2-40cc-a3f0-a8ebcc7871db\" class=\"plotly-graph-div\" style=\"height:525px; width:100%;\"></div>\n",
       "            <script type=\"text/javascript\">\n",
       "                require([\"plotly\"], function(Plotly) {\n",
       "                    window.PLOTLYENV=window.PLOTLYENV || {};\n",
       "                    \n",
       "                if (document.getElementById(\"04538ca4-e6f2-40cc-a3f0-a8ebcc7871db\")) {\n",
       "                    Plotly.newPlot(\n",
       "                        '04538ca4-e6f2-40cc-a3f0-a8ebcc7871db',\n",
       "                        [{\"coloraxis\": \"coloraxis\", \"geo\": \"geo\", \"hoverlabel\": {\"namelength\": 0}, \"hovertemplate\": \" stusps=%{location}<br>tx_count=%{z}\", \"locationmode\": \"USA-states\", \"locations\": [\"AL\", \"AK\", \"AZ\", \"AR\", \"CA\", \"CO\", \"CT\", \"FL\", \"GA\", \"KY\", \"MD\", \"MA\", \"OK\", \"TN\", \"VT\"], \"name\": \"\", \"type\": \"choropleth\", \"z\": [27, 29, 32, 364, 59, 35, 27, 45, 29, 26, 211, 36, 25, 33, 37]}],\n",
       "                        {\"coloraxis\": {\"colorbar\": {\"title\": {\"text\": \"tx_count\"}}, \"colorscale\": [[0.0, \"#0d0887\"], [0.1111111111111111, \"#46039f\"], [0.2222222222222222, \"#7201a8\"], [0.3333333333333333, \"#9c179e\"], [0.4444444444444444, \"#bd3786\"], [0.5555555555555556, \"#d8576b\"], [0.6666666666666666, \"#ed7953\"], [0.7777777777777778, \"#fb9f3a\"], [0.8888888888888888, \"#fdca26\"], [1.0, \"#f0f921\"]]}, \"geo\": {\"center\": {}, \"domain\": {\"x\": [0.0, 1.0], \"y\": [0.0, 1.0]}, \"scope\": \"usa\"}, \"legend\": {\"tracegroupgap\": 0}, \"margin\": {\"t\": 60}},\n",
       "                        {\"responsive\": true}\n",
       "                    ).then(function(){\n",
       "                            \n",
       "var gd = document.getElementById('04538ca4-e6f2-40cc-a3f0-a8ebcc7871db');\n",
       "var x = new MutationObserver(function (mutations, observer) {{\n",
       "        var display = window.getComputedStyle(gd).display;\n",
       "        if (!display || display === 'none') {{\n",
       "            console.log([gd, 'removed!']);\n",
       "            Plotly.purge(gd);\n",
       "            observer.disconnect();\n",
       "        }}\n",
       "}});\n",
       "\n",
       "// Listen for the removal of the full notebook cells\n",
       "var notebookContainer = gd.closest('#notebook-container');\n",
       "if (notebookContainer) {{\n",
       "    x.observe(notebookContainer, {childList: true});\n",
       "}}\n",
       "\n",
       "// Listen for the clearing of the current output cell\n",
       "var outputEl = gd.closest('.output');\n",
       "if (outputEl) {{\n",
       "    x.observe(outputEl, {childList: true});\n",
       "}}\n",
       "\n",
       "                        })\n",
       "                };\n",
       "                });\n",
       "            </script>\n",
       "        </div>"
      ]
     },
     "metadata": {},
     "output_type": "display_data"
    }
   ],
   "source": [
    "\n",
    "from urllib.request import urlopen\n",
    "import plotly.express as px\n",
    "\n",
    "with urlopen('https://raw.githubusercontent.com/plotly/datasets/master/geojson-counties-fips.json') as response:\n",
    "    counties = json.load(response)\n",
    "    \n",
    "\n",
    "ben_series = ({'tx_count' : alert_match_df.groupby(['tx_ben_state']).size()})\n",
    "payee_series = ({'tx_count' : alert_match_df.groupby(['tx_payee_state']).size()})\n",
    "\n",
    "state_tot_tx = {key: ben_series.get(key, 0) + payee_series.get(key, 0)\n",
    "          for key in set(ben_series) | set(payee_series)}\n",
    "# fips = state_tot_tx.keys\n",
    "# values = state_tot_tx.values\n",
    "\n",
    "\n",
    "colorscale = [\"#f7fbff\", \"#ebf3fb\", \"#deebf7\", \"#d2e3f3\", \"#c6dbef\", \"#b3d2e9\", \"#9ecae1\",\n",
    "    \"#85bcdb\", \"#6baed6\", \"#57a0ce\", \"#4292c6\", \"#3082be\", \"#2171b5\", \"#1361a9\",\n",
    "    \"#08519c\", \"#0b4083\", \"#08306b\"\n",
    "]\n",
    "endpts = list(np.linspace(1, 12, len(colorscale) - 1))\n",
    "\n",
    "state_tot_tx_df = pd.DataFrame(state_tot_tx).reset_index()\n",
    "fips_df = pd.read_csv(r'C:\\Users\\alapatt\\DSAssignments\\Big Data\\us-state-ansi-fips.csv')\n",
    "\n",
    "state_tot_tx_df = state_tot_tx_df.merge(fips_df, how='inner', left_on=['tx_ben_state'], right_on=['stname'])\n",
    "del state_tot_tx_df['tx_ben_state']\n",
    "\n",
    "df = state_tot_tx_df\n",
    "\n",
    "fig = px.choropleth(df, locations=df[' stusps'], locationmode=\"USA-states\",\n",
    "                    color=df['tx_count'], scope=\"usa\", color_continuous_scale=px.colors.sequential.Plasma,\n",
    "                   )\n",
    "\n",
    "fig.layout.template = None\n",
    "fig.show()\n",
    "\n"
   ]
  },
  {
   "cell_type": "code",
   "execution_count": null,
   "metadata": {},
   "outputs": [],
   "source": [
    "# plot interactive maps based on references (Key is URL within Dataframes)\n",
    "\n",
    "\n"
   ]
  },
  {
   "cell_type": "code",
   "execution_count": null,
   "metadata": {},
   "outputs": [],
   "source": []
  },
  {
   "cell_type": "code",
   "execution_count": null,
   "metadata": {},
   "outputs": [],
   "source": []
  }
 ],
 "metadata": {
  "kernelspec": {
   "display_name": "Python 3",
   "language": "python",
   "name": "python3"
  },
  "language_info": {
   "codemirror_mode": {
    "name": "ipython",
    "version": 3
   },
   "file_extension": ".py",
   "mimetype": "text/x-python",
   "name": "python",
   "nbconvert_exporter": "python",
   "pygments_lexer": "ipython3",
   "version": "3.7.3"
  }
 },
 "nbformat": 4,
 "nbformat_minor": 2
}
